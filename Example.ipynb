{
 "cells": [
  {
   "cell_type": "code",
   "execution_count": 1,
   "id": "49c0a4ca-8dc1-40fe-a73f-be0431a048ec",
   "metadata": {},
   "outputs": [],
   "source": [
    "from genographs.runSignal import *\n",
    "from genographs.plotHeatmaps import *\n",
    "from genographs.plotProfiles import *\n",
    "\n",
    "%load_ext rpy2.ipython\n"
   ]
  },
  {
   "cell_type": "markdown",
   "id": "021195e9-9f80-4193-9cd6-b9659cdfafaf",
   "metadata": {},
   "source": [
    "Please run `data/getData.sh` script to fetch some example data from ENCODE."
   ]
  },
  {
   "cell_type": "code",
   "execution_count": 2,
   "id": "7011cc4a-e8c9-4ec1-a2b0-6aa427fce273",
   "metadata": {},
   "outputs": [],
   "source": [
    "#!bash data/getData.sh"
   ]
  },
  {
   "cell_type": "markdown",
   "id": "ad8685c3-5466-45d5-8dab-9b24ae6eca88",
   "metadata": {},
   "source": [
    "An example BED file with GR and random sets. "
   ]
  },
  {
   "cell_type": "code",
   "execution_count": 3,
   "id": "6d16fed1-29fe-417c-b73a-93c5b1edf3ae",
   "metadata": {},
   "outputs": [],
   "source": [
    "BED = pd.read_table(\"data/ALL.hg38.bed\", names=[\"Chr\", \"Start\",\"End\",\"Set\"])"
   ]
  },
  {
   "cell_type": "code",
   "execution_count": 4,
   "id": "5e1beb89-2bf2-48c7-992a-4cd73366b773",
   "metadata": {},
   "outputs": [],
   "source": [
    "BWS = [\n",
    "    \"data/ENCFF331JNU.bigWig\",\n",
    "    \"data/ENCFF809IAK.bigWig\"\n",
    "]"
   ]
  },
  {
   "cell_type": "code",
   "execution_count": null,
   "id": "61b43b85-5425-407c-aff5-db50c6f43ddd",
   "metadata": {},
   "outputs": [
    {
     "name": "stdout",
     "output_type": "stream",
     "text": [
      "hg38\n",
      "0: ENCFF331JNU.bigWig\n",
      "1: ENCFF331JNU.bigWig\n",
      "2: ENCFF331JNU.bigWig\n",
      "3: ENCFF331JNU.bigWig\n",
      "4: ENCFF331JNU.bigWig\n",
      "5: ENCFF331JNU.bigWig\n",
      "6: ENCFF331JNU.bigWig\n",
      "7: ENCFF331JNU.bigWig\n",
      "8: ENCFF331JNU.bigWig\n",
      "9: ENCFF331JNU.bigWig\n",
      "10: ENCFF331JNU.bigWig\n",
      "11: ENCFF331JNU.bigWig\n",
      "12: ENCFF331JNU.bigWig\n",
      "13: ENCFF331JNU.bigWig\n",
      "14: ENCFF331JNU.bigWig\n",
      "15: ENCFF331JNU.bigWig\n",
      "16: ENCFF331JNU.bigWig\n",
      "17: ENCFF331JNU.bigWig\n",
      "18: ENCFF331JNU.bigWig\n",
      "19: ENCFF331JNU.bigWig\n",
      "4: ENCFF809IAK.bigWig\n",
      "11: ENCFF809IAK.bigWig\n",
      "15: ENCFF809IAK.bigWig\n",
      "0: ENCFF809IAK.bigWig\n",
      "2: ENCFF809IAK.bigWig\n",
      "13: ENCFF809IAK.bigWig\n",
      "12: ENCFF809IAK.bigWig\n",
      "18: ENCFF809IAK.bigWig\n",
      "7: ENCFF809IAK.bigWig\n",
      "1: ENCFF809IAK.bigWig\n",
      "6: ENCFF809IAK.bigWig\n",
      "14: ENCFF809IAK.bigWig\n",
      "5: ENCFF809IAK.bigWig\n",
      "9: ENCFF809IAK.bigWig\n",
      "17: ENCFF809IAK.bigWig\n",
      "8: ENCFF809IAK.bigWig\n",
      "3: ENCFF809IAK.bigWig\n",
      "10: ENCFF809IAK.bigWig\n",
      "16: ENCFF809IAK.bigWig\n",
      "19: ENCFF809IAK.bigWig\n"
     ]
    }
   ],
   "source": [
    "\n",
    "Nbins=200\n",
    "h=1000\n",
    "\n",
    "runSignal(BED, BWS, \"Example.p\", ref=\"hg38\",  Nbins=Nbins, h=h, nP=20)"
   ]
  },
  {
   "cell_type": "code",
   "execution_count": null,
   "id": "e9418890-8f25-44d3-9c00-8c5544fdccaf",
   "metadata": {},
   "outputs": [],
   "source": [
    "S = pickle.load(open(\"Example.p\",\"rb\"))\n",
    "\n",
    "S = np.nan_to_num(S)\n",
    "Amean = S.mean(2)\n",
    "\n",
    "%Rpush Amean\n",
    "\n",
    "\n",
    "R = %R library(edgeR); NormFactor <- calcNormFactors(object = Amean, method = \"TMM\"); LibSize <- colSums(Amean); SizeFactors <- NormFactor * LibSize / 1000000; SizeFactors.Reciprocal <- 1/SizeFactors\n",
    "\n",
    "N = S * R[:,None]"
   ]
  },
  {
   "cell_type": "code",
   "execution_count": null,
   "id": "e3588863-41a3-4e1d-8e4a-e493e09d8d8a",
   "metadata": {},
   "outputs": [],
   "source": [
    "\n",
    "samples = [\n",
    "    \"GR-ChIPseq.0h-DEX\",\n",
    "    \"GR-ChIPseq.4h-DEX\",\n",
    "]\n",
    "palette = [\"Reds\", \"Reds\"]\n",
    "\n",
    "\n",
    "\n",
    "\n",
    "\n",
    "sets = [\"GR\",\"rnd\"]\n",
    "\n",
    "colorPalette = {\n",
    "    \"rnd\"     : \"#545c5e\",\n",
    "    \"GR\"  : \"#FF7247\"\n",
    "}"
   ]
  },
  {
   "cell_type": "code",
   "execution_count": null,
   "id": "248dd9b5-07f8-4aa4-943d-5d177e3590ed",
   "metadata": {},
   "outputs": [],
   "source": [
    "\n",
    "\n",
    "vmax = 2*(N.max() ** 0.6)\n",
    "vmin = 10\n",
    "\n",
    "fig = plotHeatmaps(\n",
    "    N, BED,\n",
    "    samples, palette, sets, colorPalette,\n",
    "    ylim=2000,vmin=vmin,vmax=vmax,\n",
    "    h=1000, clab=\"TMM Signal\"\n",
    ")"
   ]
  },
  {
   "cell_type": "markdown",
   "id": "98d37958-448e-42cc-898b-f7b2cd23cea3",
   "metadata": {},
   "source": [
    "# PhastCons"
   ]
  },
  {
   "cell_type": "code",
   "execution_count": null,
   "id": "9fd2bf14-1314-42af-9b8e-b925bf91ad7e",
   "metadata": {},
   "outputs": [],
   "source": [
    "\n",
    "BED = pd.read_table(\"data/ALL.hg19.bed\", names=[\"Chr\", \"Start\",\"End\",\"Set\"])\n",
    "\n",
    "BWS = [\n",
    "    \"data/hg19.100way.phastCons.bw\"\n",
    "]"
   ]
  },
  {
   "cell_type": "code",
   "execution_count": null,
   "id": "afee5665-cf19-448b-ac96-ca1d7561d166",
   "metadata": {},
   "outputs": [],
   "source": [
    "\n",
    "Nbins=200\n",
    "h=1000\n",
    "\n",
    "runSignal(BED, BWS, \"Example.PhastCons.p\", ref=\"hg19\",  Nbins=Nbins, h=h, nP=20)"
   ]
  },
  {
   "cell_type": "code",
   "execution_count": null,
   "id": "291caed3-479a-49c3-98e3-fa80509d487f",
   "metadata": {},
   "outputs": [],
   "source": [
    "S = pickle.load(open(\"Example.PhastCons.p\",\"rb\"))\n",
    "\n",
    "S = np.nan_to_num(S)\n",
    "Amean = S.mean(2)\n",
    "\n",
    "%Rpush Amean\n",
    "\n",
    "\n",
    "R = %R library(edgeR); NormFactor <- calcNormFactors(object = Amean, method = \"TMM\"); LibSize <- colSums(Amean); SizeFactors <- NormFactor * LibSize / 1000000; SizeFactors.Reciprocal <- 1/SizeFactors\n",
    "\n",
    "N = S * R[:,None]"
   ]
  },
  {
   "cell_type": "code",
   "execution_count": null,
   "id": "4c2a7849-9023-46d4-8926-ce87c52fac83",
   "metadata": {},
   "outputs": [],
   "source": [
    "\n",
    "\n",
    "sets = [\"GR\",\"rnd\"]\n",
    "\n",
    "colorPalette = {\n",
    "    \"rnd\"     : \"#545c5e\",\n",
    "    \"GR\"  : \"#FF7247\"\n",
    "}"
   ]
  },
  {
   "cell_type": "code",
   "execution_count": null,
   "id": "a4a58a8e-b464-4941-b2cf-66fdcf81f934",
   "metadata": {},
   "outputs": [],
   "source": [
    "\n",
    "fig = plotProfiles(\n",
    "    N, BED,\n",
    "    sets,colorPalette,\n",
    "    nrows=1,ncols=2,\n",
    "    h=1000,\n",
    "    ylim=150,\n",
    "    dpi=100\n",
    ")\n"
   ]
  }
 ],
 "metadata": {
  "kernelspec": {
   "display_name": "Python 3 (ipykernel)",
   "language": "python",
   "name": "python3"
  },
  "language_info": {
   "codemirror_mode": {
    "name": "ipython",
    "version": 3
   },
   "file_extension": ".py",
   "mimetype": "text/x-python",
   "name": "python",
   "nbconvert_exporter": "python",
   "pygments_lexer": "ipython3",
   "version": "3.9.7"
  }
 },
 "nbformat": 4,
 "nbformat_minor": 5
}
